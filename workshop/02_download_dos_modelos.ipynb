{
 "cells": [
  {
   "cell_type": "markdown",
   "metadata": {},
   "source": [
    "### Download dos modelos de Evapotranspiração "
   ]
  },
  {
   "cell_type": "markdown",
   "metadata": {},
   "source": [
    "Os modelos desenvolvidos pelo projeto estão disponíveis nos links:\n",
    "\n",
    "geeSEBAL: https://github.com/openet-brazil/openet-geesebal\n",
    "\n",
    "SSEBop: https://github.com/openet-brazil/openet-ssebop\n",
    "\n",
    "\n",
    "PT-JPL: https://github.com/openet-brazil/openet-ptjpl"
   ]
  },
  {
   "cell_type": "markdown",
   "metadata": {},
   "source": [
    "### A instalação é efetuada utilizando o GitHub\n",
    "\n",
    "###### 1 - Instalar o GitHub: https://git-scm.com/downloads/win\n",
    "###### 2 - Comando git clone: Sincronização dos repositórios para o computador local\n",
    "###### 3 - Comando para instalar uma repositório (Exemplo): git clone https://github.com/openet-brazil/openet-ptjpl.git"
   ]
  },
  {
   "cell_type": "code",
   "execution_count": null,
   "metadata": {},
   "outputs": [],
   "source": []
  }
 ],
 "metadata": {
  "kernelspec": {
   "display_name": "ee",
   "language": "python",
   "name": "python3"
  },
  "language_info": {
   "codemirror_mode": {
    "name": "ipython",
    "version": 3
   },
   "file_extension": ".py",
   "mimetype": "text/x-python",
   "name": "python",
   "nbconvert_exporter": "python",
   "pygments_lexer": "ipython3",
   "version": "3.12.3"
  }
 },
 "nbformat": 4,
 "nbformat_minor": 2
}
