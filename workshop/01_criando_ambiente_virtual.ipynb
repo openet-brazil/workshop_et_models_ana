{
 "cells": [
  {
   "cell_type": "markdown",
   "metadata": {},
   "source": [
    "### Criando Ambiente Virtual para a instalação dos modelos"
   ]
  },
  {
   "cell_type": "code",
   "execution_count": 1,
   "metadata": {},
   "outputs": [
    {
     "data": {
      "text/plain": [
       "'\\nDisclaimer\\n\\n1 - Instalação do python (Recomendado: conda ou anaconda)\\n    - Link anaconda: https://www.anaconda.com/download/success\\n    - Lembrar de realizar a instalação do Anaconda como ambiente de variável\\n2 - Criar um ambiente virtual utilizando conda (Versão do python recomendada = 3.12.3)\\n3 - Após instalação do python, abrir o command line (CMD) do computador \\n4 - Escrever os seguintes comandos:\\n        conda create -n workshop_ana python=3.12.3\\n\\n'"
      ]
     },
     "execution_count": 1,
     "metadata": {},
     "output_type": "execute_result"
    }
   ],
   "source": [
    "\"\"\"\n",
    "Disclaimer\n",
    "\n",
    "1 - Instalação do python (Recomendado: conda ou anaconda)\n",
    "    - Link anaconda: https://www.anaconda.com/download/success\n",
    "    - Lembrar de realizar a instalação do Anaconda como ambiente de variável\n",
    "2 - Criar um ambiente virtual utilizando conda (Versão do python recomendada = 3.12.3)\n",
    "3 - Após instalação do python, abrir o command line (CMD) do computador \n",
    "4 - Escrever os seguintes comandos:\n",
    "        conda create -n workshop_ana python=3.12.3\n",
    "\n",
    "\"\"\""
   ]
  },
  {
   "cell_type": "markdown",
   "metadata": {},
   "source": []
  }
 ],
 "metadata": {
  "kernelspec": {
   "display_name": "ee",
   "language": "python",
   "name": "python3"
  },
  "language_info": {
   "codemirror_mode": {
    "name": "ipython",
    "version": 3
   },
   "file_extension": ".py",
   "mimetype": "text/x-python",
   "name": "python",
   "nbconvert_exporter": "python",
   "pygments_lexer": "ipython3",
   "version": "3.12.3"
  }
 },
 "nbformat": 4,
 "nbformat_minor": 2
}
