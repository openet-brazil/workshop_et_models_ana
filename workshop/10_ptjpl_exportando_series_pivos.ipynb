{
 "cells": [
  {
   "cell_type": "markdown",
   "metadata": {},
   "source": [
    "## Extraindo séries temporais para áreas de interesse"
   ]
  },
  {
   "cell_type": "markdown",
   "metadata": {},
   "source": [
    "#### Este exemplo mostra como extrair séries de evapotranspiração média em pivôs centrais selecionados"
   ]
  },
  {
   "cell_type": "markdown",
   "metadata": {},
   "source": [
    "### Importando a biblioteca Google Earth Engine"
   ]
  },
  {
   "cell_type": "code",
   "execution_count": 1,
   "metadata": {},
   "outputs": [],
   "source": [
    "try:\n",
    "    import ee \n",
    "except:\n",
    "    !pip install earthengine-api\n",
    "    import ee"
   ]
  },
  {
   "cell_type": "code",
   "execution_count": 2,
   "metadata": {},
   "outputs": [],
   "source": [
    "# Instalando bibliotecas secundárias do OpenET\n",
    "\n",
    "# Installing openet-core package\n",
    "# https://github.com/Open-ET/openet-core\n",
    "\n",
    "#    !pip install openet-core\n",
    "\n",
    "# Installing openet.refetgee package\n",
    "# https://github.com/Open-ET/openet-refet-gee\n",
    "\n",
    "#    !pip install openet-refet-gee"
   ]
  },
  {
   "cell_type": "markdown",
   "metadata": {},
   "source": [
    "### Inicializando Google Earth Engine\n",
    "#### Necessário definir o projeto_id a ser utilizado"
   ]
  },
  {
   "cell_type": "code",
   "execution_count": 2,
   "metadata": {},
   "outputs": [],
   "source": [
    "project_id = 'et-brasil'\n",
    "\n",
    "try:\n",
    "    ee.Initialize(project=project_id)\n",
    "except:\n",
    "    ee.Authenticate()"
   ]
  },
  {
   "cell_type": "markdown",
   "metadata": {},
   "source": [
    "### Importando o modelo geeSEBAL e definido a localização do ambiente de trabalho "
   ]
  },
  {
   "cell_type": "code",
   "execution_count": 3,
   "metadata": {},
   "outputs": [],
   "source": [
    "import geopandas as gpd\n",
    "import geemap\n",
    "from tqdm import tqdm\n",
    "\n",
    "import pprint\n",
    "import sys\n",
    "import datetime\n",
    "import pandas as pd\n",
    "import numpy as np\n",
    "from IPython.display import Image\n",
    "\n",
    "sys.path.append(r'C:/openet_brazil/workshop_et_models/openet-ptjpl')\n",
    "\n",
    "import openet.ptjpl as model"
   ]
  },
  {
   "cell_type": "markdown",
   "metadata": {},
   "source": [
    "### Variáveis"
   ]
  },
  {
   "cell_type": "code",
   "execution_count": 4,
   "metadata": {},
   "outputs": [
    {
     "data": {
      "text/html": [
       "\n",
       "            <style>\n",
       "                .geemap-dark {\n",
       "                    --jp-widgets-color: white;\n",
       "                    --jp-widgets-label-color: white;\n",
       "                    --jp-ui-font-color1: white;\n",
       "                    --jp-layout-color2: #454545;\n",
       "                    background-color: #383838;\n",
       "                }\n",
       "\n",
       "                .geemap-dark .jupyter-button {\n",
       "                    --jp-layout-color3: #383838;\n",
       "                }\n",
       "\n",
       "                .geemap-colab {\n",
       "                    background-color: var(--colab-primary-surface-color, white);\n",
       "                }\n",
       "\n",
       "                .geemap-colab .jupyter-button {\n",
       "                    --jp-layout-color3: var(--colab-primary-surface-color, white);\n",
       "                }\n",
       "            </style>\n",
       "            "
      ],
      "text/plain": [
       "<IPython.core.display.HTML object>"
      ]
     },
     "metadata": {},
     "output_type": "display_data"
    }
   ],
   "source": [
    "# Set landsat possible collections\n",
    "collections = ['LANDSAT/LT04/C02/T1_L2',\n",
    "               'LANDSAT/LT05/C02/T1_L2',\n",
    "               'LANDSAT/LE07/C02/T1_L2',\n",
    "               'LANDSAT/LC08/C02/T1_L2',\n",
    "               'LANDSAT/LC09/C02/T1_L2']\n",
    "\n",
    "# Set ET reference dataset and parameters\n",
    "meteorology_source_inst = \"ECMWF/ERA5_LAND/HOURLY\"\n",
    "meteorology_source_daily = \"projects/openet/assets/meteorology/era5land/sa/daily\"\n",
    "et_reference_source = 'projects/et-brasil/assets/era5/daily/etr'\n",
    "et_reference_band = 'eto24h'\n",
    "et_reference_factor = 1\n",
    "et_reference_resample = 'nearest'\n",
    "et_reference_date_type = 'daily'\n",
    "\n",
    "# Ponto de interesse\n",
    "point = ee.Geometry.Point([-47.2425,-17.5372])\n",
    "\n",
    "# Período de análise\n",
    "start_date = '2020-01-01'\n",
    "end_date = '2022-01-01'\n",
    "\n",
    "# Cobertura de nuvens\n",
    "cloud_cover = 50\n",
    "\n",
    "# Lê arquivo shapefile das áreas de interesse\n",
    "aoi_file = 'geometria/pivos_bacia_sao_marcos.shp'\n",
    "aoi_info = gpd.read_file(aoi_file)\n",
    "ee_aoi = geemap.geopandas_to_ee(aoi_info)\n",
    "\n",
    "# Tamanho da imagem para a visualização\n",
    "image_size = 768"
   ]
  },
  {
   "cell_type": "markdown",
   "metadata": {},
   "source": [
    "### Criando o objeto do modelo"
   ]
  },
  {
   "cell_type": "code",
   "execution_count": 5,
   "metadata": {},
   "outputs": [
    {
     "data": {
      "text/html": [
       "\n",
       "            <style>\n",
       "                .geemap-dark {\n",
       "                    --jp-widgets-color: white;\n",
       "                    --jp-widgets-label-color: white;\n",
       "                    --jp-ui-font-color1: white;\n",
       "                    --jp-layout-color2: #454545;\n",
       "                    background-color: #383838;\n",
       "                }\n",
       "\n",
       "                .geemap-dark .jupyter-button {\n",
       "                    --jp-layout-color3: #383838;\n",
       "                }\n",
       "\n",
       "                .geemap-colab {\n",
       "                    background-color: var(--colab-primary-surface-color, white);\n",
       "                }\n",
       "\n",
       "                .geemap-colab .jupyter-button {\n",
       "                    --jp-layout-color3: var(--colab-primary-surface-color, white);\n",
       "                }\n",
       "            </style>\n",
       "            "
      ],
      "text/plain": [
       "<IPython.core.display.HTML object>"
      ]
     },
     "metadata": {},
     "output_type": "display_data"
    }
   ],
   "source": [
    "# Gera a Coleção de Imagens geeSEBAL\n",
    "model_obj = model.Collection(\n",
    "collections=collections,\n",
    "start_date=start_date,\n",
    "end_date=end_date,\n",
    "geometry=ee_aoi.geometry(),\n",
    "cloud_cover_max=cloud_cover,\n",
    "model_args={\n",
    "            'meteorology_source_inst': meteorology_source_inst,\n",
    "            'meteorology_source_daily': meteorology_source_daily,\n",
    "            'et_reference_source': et_reference_source,\n",
    "            'et_reference_band': et_reference_band,\n",
    "            'et_reference_factor': et_reference_factor,\n",
    "            'et_reference_resample': et_reference_resample,\n",
    "            'cold_calibration_points': 1,\n",
    "            'hot_calibration_points': 1},)    \n",
    "\n",
    "# Calcula variáveis para cada imagem da coleção\n",
    "overpass_coll = model_obj.overpass(variables=['ndvi', 'lst', 'et'])"
   ]
  },
  {
   "cell_type": "markdown",
   "metadata": {},
   "source": [
    "### Opção 1 multiplas tabelas cada uma contendo a série temporal de um pivô selecionado"
   ]
  },
  {
   "cell_type": "code",
   "execution_count": 6,
   "metadata": {},
   "outputs": [
    {
     "data": {
      "text/html": [
       "\n",
       "            <style>\n",
       "                .geemap-dark {\n",
       "                    --jp-widgets-color: white;\n",
       "                    --jp-widgets-label-color: white;\n",
       "                    --jp-ui-font-color1: white;\n",
       "                    --jp-layout-color2: #454545;\n",
       "                    background-color: #383838;\n",
       "                }\n",
       "\n",
       "                .geemap-dark .jupyter-button {\n",
       "                    --jp-layout-color3: #383838;\n",
       "                }\n",
       "\n",
       "                .geemap-colab {\n",
       "                    background-color: var(--colab-primary-surface-color, white);\n",
       "                }\n",
       "\n",
       "                .geemap-colab .jupyter-button {\n",
       "                    --jp-layout-color3: var(--colab-primary-surface-color, white);\n",
       "                }\n",
       "            </style>\n",
       "            "
      ],
      "text/plain": [
       "<IPython.core.display.HTML object>"
      ]
     },
     "metadata": {},
     "output_type": "display_data"
    },
    {
     "name": "stderr",
     "output_type": "stream",
     "text": [
      "100%|██████████| 88/88 [06:52<00:00,  4.69s/it]\n"
     ]
    }
   ],
   "source": [
    "# Loop between flux tower sites\n",
    "for i in tqdm(aoi_info.index):\n",
    "\n",
    "    # Seleciona pivô e guarda informações\n",
    "    aoi = aoi_info.loc[i:i, :]\n",
    "    id = aoi['PIVO_CODE'].values[0] # TODO: Atualizar o valor \"PIVO_CODE\" de acordo com o .shp da área de interesse\n",
    "\n",
    "    # Converte GeoDataFrame em ee.Feature\n",
    "    ee_aoi = geemap.geopandas_to_ee(aoi_info.loc[i:i,:]).first()\n",
    "\n",
    "    # Função para extrair valores das bandas para um pivô\n",
    "    def extract_band_values(image):\n",
    "        try:\n",
    "            values = image.reduceRegion(\n",
    "                reducer=ee.Reducer.mean(),\n",
    "                geometry=ee_aoi.geometry(),\n",
    "                scale=30\n",
    "            )\n",
    "        except:\n",
    "            values = {'ndvi': np.nan, 'lst': np.nan, 'et': np.nan}\n",
    "        \n",
    "        return ee.Feature(None, values).set('date', image.date().format())\n",
    "\n",
    "    # Aplicar a função em cada imagem da coleção\n",
    "    time_series = overpass_coll.map(extract_band_values)\n",
    "\n",
    "    # Exportar a série temporal como uma tabela para o Google Drive\n",
    "    task = ee.batch.Export.table.toDrive(\n",
    "        collection=time_series,\n",
    "        folder= f'SerieTemporal_Pivos_ptjpl',\n",
    "        description=f'ptjpl_pivo_{id}',\n",
    "        selectors=['date', 'ndvi', 'lst', 'et'],\n",
    "        fileFormat='CSV'\n",
    "    )\n",
    "\n",
    "    task.start()"
   ]
  },
  {
   "cell_type": "markdown",
   "metadata": {},
   "source": [
    "### Opção 2 para exportar uma tabela com os resultados para um ponto (Utilizando Earth Engine)\n",
    "#### Para períodos mais longos e modelos mais complexos (geesebal, eemetric)\n"
   ]
  },
  {
   "cell_type": "code",
   "execution_count": null,
   "metadata": {},
   "outputs": [],
   "source": [
    "# Função para calcular ET média em cada pivô central\n",
    "def extract_et(img):\n",
    "    date_str = img.date().format('YYYY-MM-dd')\n",
    "    \n",
    "    # Aplica a média sobre cada feature\n",
    "    stats = img.reduceRegions(\n",
    "        collection=ee_aoi,\n",
    "        reducer=ee.Reducer.mean(),\n",
    "        scale=30  \n",
    "    ).map(lambda f: f.set('date', date_str))\n",
    "    \n",
    "    return stats\n",
    "\n",
    "# Extrai médias dos pivôs selecionados para cada imagem da coleção\n",
    "results = overpass_coll.map(extract_et).flatten()\n",
    "\n",
    "# Exportar a série temporal como uma tabela para o Google Drive\n",
    "task = ee.batch.Export.table.toDrive(\n",
    "    collection=results,\n",
    "    folder= f'SerieTemporal_Pivos_ptjpl',\n",
    "    description=f'ptjpl_agregado_pivos',\n",
    "    fileFormat='CSV'\n",
    ")\n",
    "task.start()\n"
   ]
  }
 ],
 "metadata": {
  "kernelspec": {
   "display_name": "geesebal_v032",
   "language": "python",
   "name": "python3"
  },
  "language_info": {
   "codemirror_mode": {
    "name": "ipython",
    "version": 3
   },
   "file_extension": ".py",
   "mimetype": "text/x-python",
   "name": "python",
   "nbconvert_exporter": "python",
   "pygments_lexer": "ipython3",
   "version": "3.9.21"
  }
 },
 "nbformat": 4,
 "nbformat_minor": 2
}
