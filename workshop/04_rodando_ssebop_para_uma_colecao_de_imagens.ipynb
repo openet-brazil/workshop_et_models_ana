{
 "cells": [
  {
   "cell_type": "markdown",
   "metadata": {},
   "source": [
    "## Rodando os modelos para uma coleção de imagens Landsat "
   ]
  },
  {
   "cell_type": "markdown",
   "metadata": {},
   "source": [
    "#### Este exemplo apresenta como iniciar o modelo ssebop e criar uma classe \"Collection\" para uma coleção de imagens Landsat utilizando a função \".overpass()\""
   ]
  },
  {
   "cell_type": "markdown",
   "metadata": {},
   "source": [
    "### Importando a biblioteca Google Earth Engine"
   ]
  },
  {
   "cell_type": "code",
   "execution_count": 1,
   "metadata": {},
   "outputs": [],
   "source": [
    "try:\n",
    "    import ee \n",
    "except:\n",
    "    !pip install earthengine-api\n",
    "    import ee"
   ]
  },
  {
   "cell_type": "code",
   "execution_count": 2,
   "metadata": {},
   "outputs": [],
   "source": [
    "# Instalando bibliotecas secundárias do OpenET\n",
    "\n",
    "# Installing openet-core package\n",
    "# https://github.com/Open-ET/openet-core\n",
    "\n",
    "#    !pip install openet-core\n",
    "\n",
    "# Installing openet.refetgee package\n",
    "# https://github.com/Open-ET/openet-refet-gee\n",
    "\n",
    "#    !pip install openet-refet-gee"
   ]
  },
  {
   "cell_type": "markdown",
   "metadata": {},
   "source": [
    "### Inicializando Google Eaeth Engine\n",
    "#### Necessário definir o projeto_id a ser utilizado"
   ]
  },
  {
   "cell_type": "code",
   "execution_count": 3,
   "metadata": {},
   "outputs": [],
   "source": [
    "project_id = 'et-brasil'\n",
    "\n",
    "try:\n",
    "    ee.Initialize(project=project_id)\n",
    "except:\n",
    "    ee.Authenticate()"
   ]
  },
  {
   "cell_type": "markdown",
   "metadata": {},
   "source": [
    "### Importando o modelo SSEBop e definido a localização do ambiente de trabalho "
   ]
  },
  {
   "cell_type": "code",
   "execution_count": 4,
   "metadata": {},
   "outputs": [],
   "source": [
    "import pprint\n",
    "import sys\n",
    "import datetime\n",
    "import pandas as pd\n",
    "from IPython.display import Image\n",
    "\n",
    "sys.path.append(r'C:\\openet_brazil\\workshop_et_models\\openet-ssebop')\n",
    "\n",
    "import openet.ssebop as model"
   ]
  },
  {
   "cell_type": "markdown",
   "metadata": {},
   "source": [
    "### Variáveis"
   ]
  },
  {
   "cell_type": "code",
   "execution_count": 5,
   "metadata": {},
   "outputs": [],
   "source": [
    "collections = ['LANDSAT/LC08/C02/T1_L2','LANDSAT/LE07/C02/T1_L2']\n",
    "et_reference_source = 'projects/et-brasil/assets/era5/daily/etr'\n",
    "et_reference_band = 'eto24h'\n",
    "et_reference_factor = 1.0\n",
    "et_reference_resample = 'nearest'\n",
    "et_reference_date_type = 'daily'\n",
    "\n",
    "# Ponto de interesse\n",
    "point = ee.Geometry.Point([-47.2425,-17.5372])\n",
    "\n",
    "# Período de análise\n",
    "start_date = '2018-01-01'\n",
    "end_date = '2019-01-01'\n",
    "\n",
    "# Cobertura de nuvens\n",
    "cloud_cover = 70\n",
    "\n",
    "# Paleta de cores\n",
    "ndvi_palette = ['#EFE7E1', '#003300']\n",
    "et_palette = [\n",
    "    'DEC29B', 'E6CDA1', 'EDD9A6', 'F5E4A9', 'FFF4AD', 'C3E683', '6BCC5C', \n",
    "    '3BB369', '20998F', '1C8691', '16678A', '114982', '0B2C7A']\n",
    "viridis_palette = ['440154', '433982', '30678D', '218F8B', '36B677', '8ED542', 'FDE725']\n",
    "lst_palette = ['blue','green','yellow','orange','red']\n",
    "\n",
    "# Geometria para visualização\n",
    "area_de_interesse = point.buffer(20000)\n",
    "\n",
    "# Tamanho da imagem para a visualização\n",
    "image_size = 768"
   ]
  },
  {
   "cell_type": "markdown",
   "metadata": {},
   "source": [
    "### Criando o objeto do modelo"
   ]
  },
  {
   "cell_type": "code",
   "execution_count": 7,
   "metadata": {},
   "outputs": [
    {
     "data": {
      "text/plain": [
       "32"
      ]
     },
     "execution_count": 7,
     "metadata": {},
     "output_type": "execute_result"
    }
   ],
   "source": [
    "model_obj = model.Collection(\n",
    "    collections=collections,\n",
    "    et_reference_source=et_reference_source, \n",
    "    et_reference_band=et_reference_band,\n",
    "    et_reference_factor=et_reference_factor,\n",
    "    et_reference_resample=et_reference_resample,\n",
    "    et_reference_date_type=et_reference_date_type,\n",
    "    start_date=start_date,\n",
    "    end_date=end_date,\n",
    "    geometry=point,\n",
    "    cloud_cover_max=cloud_cover,\n",
    "    # filter_args={},\n",
    ")\n",
    "len(model_obj.get_image_ids())"
   ]
  },
  {
   "cell_type": "markdown",
   "metadata": {},
   "source": [
    "### Opção 1 para exportar uma tabela com os resultados para um ponto (Utilizando Pandas)\n",
    "#### Obs: funciona para períodos curtos e modelos simples (ssebop, ptjpl, sims)"
   ]
  },
  {
   "cell_type": "code",
   "execution_count": 9,
   "metadata": {},
   "outputs": [],
   "source": [
    "def get_region_df(info):\n",
    "    \"\"\"Convert the output of getRegions to a pandas dataframe\"\"\"\n",
    "    col_dict = {}\n",
    "    info_dict = {}\n",
    "    for i, k in enumerate(info[0][4:]):\n",
    "        col_dict[k] = i+4\n",
    "        info_dict[k] = {}\n",
    "        \n",
    "    for row in info[1:]:\n",
    "        date = datetime.datetime.utcfromtimestamp(row[3] / 1000.0).strftime('%Y-%m-%d')\n",
    "        for k, v in col_dict.items():\n",
    "            info_dict[k][date] = row[col_dict[k]]\n",
    "            \n",
    "    return pd.DataFrame.from_dict(info_dict).sort_index()"
   ]
  },
  {
   "cell_type": "markdown",
   "metadata": {},
   "source": [
    "### Criando uma classe com os resultados de et, ndbi, etr e etf"
   ]
  },
  {
   "cell_type": "code",
   "execution_count": 10,
   "metadata": {},
   "outputs": [],
   "source": [
    "overpass_coll = model_obj.overpass(variables=['ndvi', 'et', 'et_reference', 'et_fraction'])"
   ]
  },
  {
   "cell_type": "markdown",
   "metadata": {},
   "source": [
    "### Visualizando os resultados em uma tabela\n",
    "\n",
    "#### Para salvar utilizar a função .to_excel() ou .to_csv()"
   ]
  },
  {
   "cell_type": "code",
   "execution_count": 11,
   "metadata": {},
   "outputs": [
    {
     "name": "stdout",
     "output_type": "stream",
     "text": [
      "                ndvi        et  et_reference  et_fraction\n",
      "2018-01-09  0.886899  3.755770      5.193766     0.723130\n",
      "2018-01-17       NaN       NaN           NaN          NaN\n",
      "2018-02-18  0.288084  0.000000      4.223090     0.000000\n",
      "2018-03-06       NaN       NaN           NaN          NaN\n",
      "2018-03-14  0.478672  2.900616      4.702967     0.616763\n",
      "2018-03-22       NaN       NaN           NaN          NaN\n",
      "2018-03-30  0.512190  2.484345      4.252199     0.584249\n",
      "2018-04-23  0.577786  2.865027      2.886883     0.992429\n",
      "2018-05-01  0.837812  3.038007      3.452291     0.879998\n",
      "2018-05-09  0.818078  2.840740      3.197763     0.888352\n",
      "2018-05-17       NaN       NaN           NaN          NaN\n",
      "2018-05-25       NaN       NaN           NaN          NaN\n",
      "2018-06-02  0.760818  2.997303      2.997303     1.000000\n",
      "2018-06-10  0.724088  2.338674      2.934008     0.797092\n",
      "2018-06-18  0.701364  2.415411      3.135368     0.770376\n",
      "2018-06-26  0.585676  1.737370      2.583273     0.672546\n",
      "2018-07-04  0.435804  1.793274      3.144828     0.570230\n",
      "2018-07-12  0.273493  1.080845      2.814357     0.384047\n",
      "2018-07-20  0.317682  1.740769      3.524020     0.493972\n",
      "2018-07-28  0.249090  1.380499      3.619379     0.381419\n",
      "2018-08-05       NaN       NaN           NaN          NaN\n",
      "2018-08-13  0.194485  1.039398      4.281557     0.242762\n",
      "2018-08-21  0.232057  1.329077      4.302891     0.308880\n",
      "2018-08-29  0.171471  0.911909      3.998105     0.228085\n",
      "2018-09-06  0.218815  1.567863      5.108909     0.306888\n",
      "2018-09-14       NaN       NaN           NaN          NaN\n",
      "2018-09-22  0.189412  0.303348      4.635075     0.065446\n",
      "2018-09-30       NaN       NaN           NaN          NaN\n",
      "2018-10-08       NaN       NaN           NaN          NaN\n",
      "2018-10-16       NaN       NaN           NaN          NaN\n",
      "2018-12-11  0.484059  4.356526      4.588329     0.949480\n",
      "2018-12-19  0.722593  3.750958      5.884002     0.637484\n"
     ]
    },
    {
     "name": "stderr",
     "output_type": "stream",
     "text": [
      "C:\\Users\\hge2022\\AppData\\Local\\Temp\\ipykernel_22064\\1689188303.py:10: DeprecationWarning: datetime.datetime.utcfromtimestamp() is deprecated and scheduled for removal in a future version. Use timezone-aware objects to represent datetimes in UTC: datetime.datetime.fromtimestamp(timestamp, datetime.UTC).\n",
      "  date = datetime.datetime.utcfromtimestamp(row[3] / 1000.0).strftime('%Y-%m-%d')\n"
     ]
    }
   ],
   "source": [
    "overpass_df = get_region_df(overpass_coll.getRegion(point, scale=30).getInfo())\n",
    "pprint.pprint(overpass_df)\n",
    "\n",
    "#exporting to csv\n",
    "overpass_df.to_csv(r'data/ssebop/ssebop_example.csv')"
   ]
  },
  {
   "cell_type": "markdown",
   "metadata": {},
   "source": [
    "### Opção 2 para exportar uma tabela com os resultados para um ponto (Utilizando Earth Engine)\n",
    "#### Para períodos mais longos e modelos mais complexos (geesebal, eemetric)\n"
   ]
  },
  {
   "cell_type": "code",
   "execution_count": 10,
   "metadata": {},
   "outputs": [],
   "source": [
    "### Função GEE para extrair dados em uma tabela\n",
    "\n",
    "def get_table(img):\n",
    "    \n",
    "    reduce= img.reduceRegion(\n",
    "        reducer=ee.Reducer.mean(),\n",
    "        scale=90,\n",
    "        maxPixels=1e12,\n",
    "        geometry=point)\n",
    "\n",
    "    date= ee.Date(img.get('system:time_start')).format('YYYY-MM-dd')\n",
    "    \n",
    "    return ee.Feature(None, {\n",
    "    'date' : date,\n",
    "    'et': ee.List([reduce.get('et'),-9999]).reduce(ee.Reducer.firstNonNull()),\n",
    "    'ndvi': ee.List([reduce.get('ndvi'),-9999]).reduce(ee.Reducer.firstNonNull()),\n",
    "    'et_reference ': ee.List([reduce.get('et_reference'),-9999]).reduce(ee.Reducer.firstNonNull()),\n",
    "    'et_fraction ': ee.List([reduce.get('et_fraction'),-9999]).reduce(ee.Reducer.firstNonNull()),\n",
    "    })\n"
   ]
  },
  {
   "cell_type": "code",
   "execution_count": 12,
   "metadata": {},
   "outputs": [
    {
     "ename": "",
     "evalue": "",
     "output_type": "error",
     "traceback": [
      "\u001b[1;31mThe Kernel crashed while executing code in the current cell or a previous cell. \n",
      "\u001b[1;31mPlease review the code in the cell(s) to identify a possible cause of the failure. \n",
      "\u001b[1;31mClick <a href='https://aka.ms/vscodeJupyterKernelCrash'>here</a> for more info. \n",
      "\u001b[1;31mView Jupyter <a href='command:jupyter.viewOutput'>log</a> for further details."
     ]
    }
   ],
   "source": [
    "task = ee.batch.Export.table.toDrive(\n",
    "    collection=overpass_coll.map(get_table),\n",
    "    description='serie_de_dados_et',\n",
    "    folder='workshop_ana',\n",
    "    fileFormat='CSV',\n",
    "    selectors= ['date','et','ndvi','et_reference','et_fraction']\n",
    ")\n",
    "task.start()"
   ]
  },
  {
   "cell_type": "code",
   "execution_count": null,
   "metadata": {},
   "outputs": [],
   "source": []
  }
 ],
 "metadata": {
  "kernelspec": {
   "display_name": "workshop_ana",
   "language": "python",
   "name": "python3"
  },
  "language_info": {
   "codemirror_mode": {
    "name": "ipython",
    "version": 3
   },
   "file_extension": ".py",
   "mimetype": "text/x-python",
   "name": "python",
   "nbconvert_exporter": "python",
   "pygments_lexer": "ipython3",
   "version": "3.12.3"
  }
 },
 "nbformat": 4,
 "nbformat_minor": 2
}
