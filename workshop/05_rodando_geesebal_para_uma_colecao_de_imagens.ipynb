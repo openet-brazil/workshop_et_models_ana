{
 "cells": [
  {
   "cell_type": "markdown",
   "metadata": {},
   "source": [
    "## Rodando os modelos para uma coleção de imagens Landsat "
   ]
  },
  {
   "cell_type": "markdown",
   "metadata": {},
   "source": [
    "#### Este exemplo apresenta como iniciar o modelo geesebal e criar uma classe \"Collection\" para uma coleção de imagens Landsat utilizando a função \".overpass()\""
   ]
  },
  {
   "cell_type": "markdown",
   "metadata": {},
   "source": [
    "### Importando a biblioteca Google Earth Engine"
   ]
  },
  {
   "cell_type": "code",
   "execution_count": 1,
   "metadata": {},
   "outputs": [],
   "source": [
    "try:\n",
    "    import ee \n",
    "except:\n",
    "    !pip install earthengine-api\n",
    "    import ee"
   ]
  },
  {
   "cell_type": "code",
   "execution_count": 2,
   "metadata": {},
   "outputs": [],
   "source": [
    "# Instalando bibliotecas secundárias do OpenET\n",
    "\n",
    "# Installing openet-core package\n",
    "# https://github.com/Open-ET/openet-core\n",
    "\n",
    "#    !pip install openet-core\n",
    "\n",
    "# Installing openet.refetgee package\n",
    "# https://github.com/Open-ET/openet-refet-gee\n",
    "\n",
    "#    !pip install openet-refet-gee"
   ]
  },
  {
   "cell_type": "markdown",
   "metadata": {},
   "source": [
    "### Inicializando Google Eaeth Engine\n",
    "#### Necessário definir o projeto_id a ser utilizado"
   ]
  },
  {
   "cell_type": "code",
   "execution_count": 3,
   "metadata": {},
   "outputs": [],
   "source": [
    "project_id = 'et-brasil'\n",
    "\n",
    "try:\n",
    "    ee.Initialize(project=project_id)\n",
    "except:\n",
    "    ee.Authenticate()"
   ]
  },
  {
   "cell_type": "markdown",
   "metadata": {},
   "source": [
    "### Importando o modelo geeSEBAL e definido a localização do ambiente de trabalho "
   ]
  },
  {
   "cell_type": "code",
   "execution_count": 4,
   "metadata": {},
   "outputs": [],
   "source": [
    "import pprint\n",
    "import sys\n",
    "import datetime\n",
    "import pandas as pd\n",
    "from IPython.display import Image\n",
    "\n",
    "sys.path.append(r'C:\\openet_brazil\\workshop_et_models\\openet-geesebal')\n",
    "\n",
    "import openet.geesebal as model"
   ]
  },
  {
   "cell_type": "markdown",
   "metadata": {},
   "source": [
    "### Variáveis"
   ]
  },
  {
   "cell_type": "code",
   "execution_count": 10,
   "metadata": {},
   "outputs": [],
   "source": [
    "collections = ['LANDSAT/LC08/C02/T1_L2','LANDSAT/LE07/C02/T1_L2']\n",
    "\n",
    "meteorology_source_inst = \"ECMWF/ERA5_LAND/HOURLY\"\n",
    "meteorology_source_daily = \"projects/openet/assets/meteorology/era5land/sa/daily\"\n",
    "et_reference_source = 'projects/et-brasil/assets/era5/daily/etr'\n",
    "et_reference_band = 'eto24h'\n",
    "et_reference_factor = 1.0\n",
    "et_reference_resample = 'nearest'\n",
    "et_reference_date_type = 'daily'\n",
    "\n",
    "# Ponto de interesse\n",
    "point = ee.Geometry.Point([-47.2425,-17.5372])\n",
    "\n",
    "# Período de análise\n",
    "start_date = '2018-05-01'\n",
    "end_date = '2018-07-01'\n",
    "\n",
    "# Cobertura de nuvens\n",
    "cloud_cover = 20\n",
    "\n",
    "# Paleta de cores\n",
    "ndvi_palette = ['#EFE7E1', '#003300']\n",
    "et_palette = [\n",
    "    'DEC29B', 'E6CDA1', 'EDD9A6', 'F5E4A9', 'FFF4AD', 'C3E683', '6BCC5C', \n",
    "    '3BB369', '20998F', '1C8691', '16678A', '114982', '0B2C7A']\n",
    "viridis_palette = ['440154', '433982', '30678D', '218F8B', '36B677', '8ED542', 'FDE725']\n",
    "lst_palette = ['blue','green','yellow','orange','red']\n",
    "\n",
    "# Geometria para visualização\n",
    "area_de_interesse = point.buffer(20000)\n",
    "\n",
    "# Tamanho da imagem para a visualização\n",
    "image_size = 768"
   ]
  },
  {
   "cell_type": "markdown",
   "metadata": {},
   "source": [
    "### Criando o objeto do modelo"
   ]
  },
  {
   "cell_type": "code",
   "execution_count": 11,
   "metadata": {},
   "outputs": [
    {
     "name": "stdout",
     "output_type": "stream",
     "text": [
      "['LANDSAT/LC08/C02/T1_L2/LC08_220072_20180501',\n",
      " 'LANDSAT/LC08/C02/T1_L2/LC08_220072_20180602',\n",
      " 'LANDSAT/LC08/C02/T1_L2/LC08_220072_20180618',\n",
      " 'LANDSAT/LE07/C02/T1_L2/LE07_220072_20180509',\n",
      " 'LANDSAT/LE07/C02/T1_L2/LE07_220072_20180610',\n",
      " 'LANDSAT/LE07/C02/T1_L2/LE07_220072_20180626']\n"
     ]
    }
   ],
   "source": [
    "model_obj = model.Collection(\n",
    "collections=collections,\n",
    "start_date=start_date,\n",
    "end_date=end_date,\n",
    "geometry=point,\n",
    "cloud_cover_max=cloud_cover,\n",
    "model_args={\n",
    "            'meteorology_source_inst': meteorology_source_inst,\n",
    "            'meteorology_source_daily': meteorology_source_daily,\n",
    "            'et_reference_source': et_reference_source,\n",
    "            'et_reference_band': et_reference_band,\n",
    "            'et_reference_factor': et_reference_factor,\n",
    "            'et_reference_resample': et_reference_resample},) \n",
    "\n",
    "pprint.pprint(model_obj.get_image_ids())"
   ]
  },
  {
   "cell_type": "markdown",
   "metadata": {},
   "source": [
    "### Opção 1 para exportar uma tabela com os resultados para um ponto (Utilizando Pandas)\n",
    "#### Obs: funciona para períodos curtos e modelos simples (ssebop, ptjpl, sims)"
   ]
  },
  {
   "cell_type": "code",
   "execution_count": 12,
   "metadata": {},
   "outputs": [],
   "source": [
    "def get_region_df(info):\n",
    "    \"\"\"Convert the output of getRegions to a pandas dataframe\"\"\"\n",
    "    col_dict = {}\n",
    "    info_dict = {}\n",
    "    for i, k in enumerate(info[0][4:]):\n",
    "        col_dict[k] = i+4\n",
    "        info_dict[k] = {}\n",
    "        \n",
    "    for row in info[1:]:\n",
    "        date = datetime.datetime.utcfromtimestamp(row[3] / 1000.0).strftime('%Y-%m-%d')\n",
    "        for k, v in col_dict.items():\n",
    "            info_dict[k][date] = row[col_dict[k]]\n",
    "            \n",
    "    return pd.DataFrame.from_dict(info_dict).sort_index()"
   ]
  },
  {
   "cell_type": "markdown",
   "metadata": {},
   "source": [
    "### Criando uma classe com os resultados de et, ndvi, etr e etf"
   ]
  },
  {
   "cell_type": "code",
   "execution_count": 13,
   "metadata": {},
   "outputs": [],
   "source": [
    "overpass_coll = model_obj.overpass(variables=['lst', 'ndvi', 'et', 'et_fraction'])"
   ]
  },
  {
   "cell_type": "markdown",
   "metadata": {},
   "source": [
    "### Visualizando os resultados em uma tabela\n",
    "\n",
    "#### Para salvar utilizar a função .to_excel() ou .to_csv()"
   ]
  },
  {
   "cell_type": "code",
   "execution_count": 14,
   "metadata": {},
   "outputs": [
    {
     "name": "stdout",
     "output_type": "stream",
     "text": [
      "                   lst      ndvi        et  et_fraction\n",
      "2018-05-01  299.780701  0.837812  2.553833     0.739750\n",
      "2018-05-09  298.077301  0.818078  1.859841     0.581607\n",
      "2018-06-02  281.856201  0.760818  3.476103     1.159744\n",
      "2018-06-10  299.775269  0.724088  1.456040     0.496263\n",
      "2018-06-18  297.636230  0.701364  1.782803     0.568610\n",
      "2018-06-26  300.099670  0.585676  1.121821     0.434263\n"
     ]
    }
   ],
   "source": [
    "overpass_df = get_region_df(overpass_coll.getRegion(point, scale=30).getInfo())\n",
    "pprint.pprint(overpass_df)\n"
   ]
  },
  {
   "cell_type": "markdown",
   "metadata": {},
   "source": [
    "### Opção 2 para exportar uma tabela com os resultados para um ponto (Utilizando Earth Engine)\n",
    "#### Para períodos mais longos e modelos mais complexos (geesebal, eemetric)\n"
   ]
  },
  {
   "cell_type": "code",
   "execution_count": 15,
   "metadata": {},
   "outputs": [],
   "source": [
    "### Função GEE para extrair dados em uma tabela\n",
    "\n",
    "def get_table(img):\n",
    "    \n",
    "    reduce= img.reduceRegion(\n",
    "        reducer=ee.Reducer.mean(),\n",
    "        scale=90,\n",
    "        maxPixels=1e12,\n",
    "        geometry=point)\n",
    "\n",
    "    date= ee.Date(img.get('system:time_start')).format('YYYY-MM-dd')\n",
    "    \n",
    "    return ee.Feature(None, {\n",
    "    'date' : date,\n",
    "    'et': ee.List([reduce.get('et'),-9999]).reduce(ee.Reducer.firstNonNull()),\n",
    "    'ndvi': ee.List([reduce.get('ndvi'),-9999]).reduce(ee.Reducer.firstNonNull()),\n",
    "    'et_fraction ': ee.List([reduce.get('et_fraction'),-9999]).reduce(ee.Reducer.firstNonNull()),\n",
    "    })\n"
   ]
  },
  {
   "cell_type": "code",
   "execution_count": 16,
   "metadata": {},
   "outputs": [],
   "source": [
    "task = ee.batch.Export.table.toDrive(\n",
    "    collection=overpass_coll.map(get_table),\n",
    "    description='serie_de_dados_et',\n",
    "    folder='workshop_ana',\n",
    "    fileFormat='CSV'\n",
    ")\n",
    "task.start()"
   ]
  },
  {
   "cell_type": "code",
   "execution_count": null,
   "metadata": {},
   "outputs": [],
   "source": []
  }
 ],
 "metadata": {
  "kernelspec": {
   "display_name": "geesebal_v032",
   "language": "python",
   "name": "python3"
  },
  "language_info": {
   "codemirror_mode": {
    "name": "ipython",
    "version": 3
   },
   "file_extension": ".py",
   "mimetype": "text/x-python",
   "name": "python",
   "nbconvert_exporter": "python",
   "pygments_lexer": "ipython3",
   "version": "3.9.21"
  }
 },
 "nbformat": 4,
 "nbformat_minor": 2
}
